{
 "cells": [
  {
   "cell_type": "markdown",
   "id": "3c202c39-0ed0-47b3-a6f1-dfadf27949e1",
   "metadata": {},
   "source": [
    "FRAUD DETECTION SYSTEM"
   ]
  },
  {
   "cell_type": "code",
   "execution_count": 3,
   "id": "b133debf-88c9-4002-ae79-88feed1c4c33",
   "metadata": {},
   "outputs": [
    {
     "name": "stdout",
     "output_type": "stream",
     "text": [
      "<class 'pandas.core.frame.DataFrame'>\n",
      "RangeIndex: 568630 entries, 0 to 568629\n",
      "Data columns (total 31 columns):\n",
      " #   Column  Non-Null Count   Dtype  \n",
      "---  ------  --------------   -----  \n",
      " 0   id      568630 non-null  int64  \n",
      " 1   V1      568630 non-null  float64\n",
      " 2   V2      568630 non-null  float64\n",
      " 3   V3      568630 non-null  float64\n",
      " 4   V4      568630 non-null  float64\n",
      " 5   V5      568630 non-null  float64\n",
      " 6   V6      568630 non-null  float64\n",
      " 7   V7      568630 non-null  float64\n",
      " 8   V8      568630 non-null  float64\n",
      " 9   V9      568630 non-null  float64\n",
      " 10  V10     568630 non-null  float64\n",
      " 11  V11     568630 non-null  float64\n",
      " 12  V12     568630 non-null  float64\n",
      " 13  V13     568630 non-null  float64\n",
      " 14  V14     568630 non-null  float64\n",
      " 15  V15     568630 non-null  float64\n",
      " 16  V16     568630 non-null  float64\n",
      " 17  V17     568630 non-null  float64\n",
      " 18  V18     568630 non-null  float64\n",
      " 19  V19     568630 non-null  float64\n",
      " 20  V20     568630 non-null  float64\n",
      " 21  V21     568630 non-null  float64\n",
      " 22  V22     568630 non-null  float64\n",
      " 23  V23     568630 non-null  float64\n",
      " 24  V24     568630 non-null  float64\n",
      " 25  V25     568630 non-null  float64\n",
      " 26  V26     568630 non-null  float64\n",
      " 27  V27     568630 non-null  float64\n",
      " 28  V28     568630 non-null  float64\n",
      " 29  Amount  568630 non-null  float64\n",
      " 30  Class   568630 non-null  int64  \n",
      "dtypes: float64(29), int64(2)\n",
      "memory usage: 134.5 MB\n",
      "None\n",
      "   id        V1        V2        V3        V4        V5        V6        V7  \\\n",
      "0   0 -0.260648 -0.469648  2.496266 -0.083724  0.129681  0.732898  0.519014   \n",
      "1   1  0.985100 -0.356045  0.558056 -0.429654  0.277140  0.428605  0.406466   \n",
      "2   2 -0.260272 -0.949385  1.728538 -0.457986  0.074062  1.419481  0.743511   \n",
      "3   3 -0.152152 -0.508959  1.746840 -1.090178  0.249486  1.143312  0.518269   \n",
      "4   4 -0.206820 -0.165280  1.527053 -0.448293  0.106125  0.530549  0.658849   \n",
      "\n",
      "         V8        V9  ...       V21       V22       V23       V24       V25  \\\n",
      "0 -0.130006  0.727159  ... -0.110552  0.217606 -0.134794  0.165959  0.126280   \n",
      "1 -0.133118  0.347452  ... -0.194936 -0.605761  0.079469 -0.577395  0.190090   \n",
      "2 -0.095576 -0.261297  ... -0.005020  0.702906  0.945045 -1.154666 -0.605564   \n",
      "3 -0.065130 -0.205698  ... -0.146927 -0.038212 -0.214048 -1.893131  1.003963   \n",
      "4 -0.212660  1.049921  ... -0.106984  0.729727 -0.161666  0.312561 -0.414116   \n",
      "\n",
      "        V26       V27       V28    Amount  Class  \n",
      "0 -0.434824 -0.081230 -0.151045  17982.10      0  \n",
      "1  0.296503 -0.248052 -0.064512   6531.37      0  \n",
      "2 -0.312895 -0.300258 -0.244718   2513.54      0  \n",
      "3 -0.515950 -0.165316  0.048424   5384.44      0  \n",
      "4  1.071126  0.023712  0.419117  14278.97      0  \n",
      "\n",
      "[5 rows x 31 columns]\n",
      "Class\n",
      "0    284315\n",
      "1    284315\n",
      "Name: count, dtype: int64\n"
     ]
    }
   ],
   "source": [
    "#task2\n",
    "import pandas as pd\n",
    "\n",
    "\n",
    "file_path = r\"C:\\Users\\USER\\Downloads\\creditcard_2023.csv\" \n",
    "df = pd.read_csv(file_path)\n",
    "\n",
    "\n",
    "print(df.info())  \n",
    "print(df.head())  \n",
    "print(df['Class'].value_counts())  \n"
   ]
  },
  {
   "cell_type": "code",
   "execution_count": 4,
   "id": "31a84a09-8950-466c-b55f-4b478ead7a9c",
   "metadata": {},
   "outputs": [
    {
     "name": "stdout",
     "output_type": "stream",
     "text": [
      "Training Data Shape: (454904, 29)\n",
      "Testing Data Shape: (113726, 29)\n"
     ]
    }
   ],
   "source": [
    "from sklearn.model_selection import train_test_split\n",
    "from sklearn.preprocessing import StandardScaler\n",
    "\n",
    "\n",
    "df.drop(columns=['id'], inplace=True)\n",
    "\n",
    "\n",
    "X = df.drop(columns=['Class'])\n",
    "y = df['Class']  \n",
    "\n",
    "# Scale 'Amount' column\n",
    "scaler = StandardScaler()\n",
    "X['Amount'] = scaler.fit_transform(X[['Amount']])\n",
    "\n",
    "\n",
    "X_train, X_test, y_train, y_test = train_test_split(X, y, test_size=0.2, random_state=42)\n",
    "\n",
    "# Check shapes\n",
    "print(\"Training Data Shape:\", X_train.shape)\n",
    "print(\"Testing Data Shape:\", X_test.shape)\n"
   ]
  },
  {
   "cell_type": "code",
   "execution_count": 5,
   "id": "3928c9e2-5ee2-45f5-b9ea-7c7fb7e233db",
   "metadata": {},
   "outputs": [
    {
     "name": "stdout",
     "output_type": "stream",
     "text": [
      "Model training complete!\n"
     ]
    }
   ],
   "source": [
    "from sklearn.ensemble import RandomForestClassifier\n",
    "model = RandomForestClassifier(n_estimators=50, random_state=42, n_jobs=-1)\n",
    "model.fit(X_train, y_train)\n",
    "print(\"Model training complete!\")\n",
    "\n"
   ]
  },
  {
   "cell_type": "code",
   "execution_count": 9,
   "id": "417e25ff-e87c-42e9-bbd3-a8dc9bb14282",
   "metadata": {},
   "outputs": [
    {
     "name": "stdout",
     "output_type": "stream",
     "text": [
      "Predictions complete!\n"
     ]
    }
   ],
   "source": [
    "y_pred = model.predict(X_test)\n",
    "print(\"Predictions complete!\")\n"
   ]
  },
  {
   "cell_type": "code",
   "execution_count": 11,
   "id": "490fb7b7-1b84-4619-9956-c209391c2f35",
   "metadata": {},
   "outputs": [
    {
     "name": "stdout",
     "output_type": "stream",
     "text": [
      "Accuracy: 0.9999\n",
      "Precision: 0.9997\n",
      "Recall: 1.0000\n",
      "F1 Score: 0.9999\n",
      "\n",
      "Classification Report:\n",
      "               precision    recall  f1-score   support\n",
      "\n",
      "           0       1.00      1.00      1.00     56750\n",
      "           1       1.00      1.00      1.00     56976\n",
      "\n",
      "    accuracy                           1.00    113726\n",
      "   macro avg       1.00      1.00      1.00    113726\n",
      "weighted avg       1.00      1.00      1.00    113726\n",
      "\n"
     ]
    }
   ],
   "source": [
    "from sklearn.metrics import accuracy_score, precision_score, recall_score, f1_score, classification_report\n",
    "accuracy = accuracy_score(y_test, y_pred)\n",
    "precision = precision_score(y_test, y_pred)\n",
    "recall = recall_score(y_test, y_pred)\n",
    "f1 = f1_score(y_test, y_pred)\n",
    "print(f\"Accuracy: {accuracy:.4f}\")\n",
    "print(f\"Precision: {precision:.4f}\")\n",
    "print(f\"Recall: {recall:.4f}\")\n",
    "print(f\"F1 Score: {f1:.4f}\")\n",
    "print(\"\\nClassification Report:\\n\", classification_report(y_test, y_pred))\n"
   ]
  },
  {
   "cell_type": "code",
   "execution_count": 13,
   "id": "6e4d897a-b61b-42de-8fbd-4340f532e7d2",
   "metadata": {},
   "outputs": [
    {
     "name": "stdout",
     "output_type": "stream",
     "text": [
      "\n",
      "🔍 Enter transaction details to test:\n"
     ]
    },
    {
     "name": "stdin",
     "output_type": "stream",
     "text": [
      "Feature 1:  222\n",
      "Feature 2:  2\n",
      "Feature 3:  2\n",
      "Feature 4:  2\n",
      "Feature 5:  2\n",
      "Feature 6:  2\n",
      "Feature 7:  2\n",
      "Feature 8:  2\n",
      "Feature 9:  2\n",
      "Feature 10:  2\n",
      "Feature 11:  2\n",
      "Feature 12:  2\n",
      "Feature 13:  2\n",
      "Feature 14:  2\n",
      "Feature 15:  2\n",
      "Feature 16:  2\n",
      "Feature 17:  2\n",
      "Feature 18:  2\n",
      "Feature 19:  2\n",
      "Feature 20:  2\n",
      "Feature 21:  2\n",
      "Feature 22:  2\n",
      "Feature 23:  2\n",
      "Feature 24:  2\n",
      "Feature 25:  2\n",
      "Feature 26:  2\n",
      "Feature 27:  2\n",
      "Feature 28:  2\n",
      "Feature 29:  2\n"
     ]
    },
    {
     "name": "stdout",
     "output_type": "stream",
     "text": [
      "\n",
      "✅ Transaction Safe!\n"
     ]
    },
    {
     "name": "stderr",
     "output_type": "stream",
     "text": [
      "C:\\Users\\USER\\anaconda3\\Lib\\site-packages\\sklearn\\base.py:493: UserWarning: X does not have valid feature names, but RandomForestClassifier was fitted with feature names\n",
      "  warnings.warn(\n"
     ]
    }
   ],
   "source": [
    "import numpy as np\n",
    "def test_transaction():\n",
    "    print(\"\\n🔍 Enter transaction details to test:\")\n",
    "\n",
    "    features = []\n",
    "    for i in range(X_train.shape[1]):\n",
    "        val = float(input(f\"Feature {i+1}: \"))\n",
    "        features.append(val)\n",
    "\n",
    "    input_data = np.array(features).reshape(1, -1)\n",
    "    prediction = model.predict(input_data)\n",
    "\n",
    "    print(\"\\n🚨 Fraud Detected!\" if prediction[0] == 1 else \"\\n✅ Transaction Safe!\")\n",
    "\n",
    "test_transaction()\n"
   ]
  },
  {
   "cell_type": "code",
   "execution_count": 15,
   "id": "72c5b095-0753-4e66-b068-4ddbabe285e7",
   "metadata": {},
   "outputs": [
    {
     "name": "stdout",
     "output_type": "stream",
     "text": [
      "Top 5 important features:\n",
      "    Feature  Importance\n",
      "13     V14    0.193614\n",
      "9      V10    0.146135\n",
      "10     V11    0.089981\n",
      "3       V4    0.089518\n",
      "11     V12    0.086854\n"
     ]
    }
   ],
   "source": [
    "importances = model.feature_importances_\n",
    "feature_importance_df = pd.DataFrame({'Feature': X.columns, 'Importance': importances})\n",
    "\n",
    "top_features = feature_importance_df.sort_values(by='Importance', ascending=False).head(5)\n",
    "print(\"Top 5 important features:\\n\", top_features)\n"
   ]
  },
  {
   "cell_type": "code",
   "execution_count": 17,
   "id": "f7247cd7-b1ec-414f-8619-d1404b71aea3",
   "metadata": {},
   "outputs": [
    {
     "name": "stdout",
     "output_type": "stream",
     "text": [
      "\n",
      "🔍 Enter transaction details to test:\n"
     ]
    },
    {
     "name": "stdin",
     "output_type": "stream",
     "text": [
      "V14:  1\n",
      "V10:  2\n",
      "V11:  3\n",
      "V4:  4\n",
      "V12:  5\n"
     ]
    },
    {
     "name": "stdout",
     "output_type": "stream",
     "text": [
      "\n",
      "✅ Transaction Safe!\n"
     ]
    },
    {
     "name": "stderr",
     "output_type": "stream",
     "text": [
      "C:\\Users\\USER\\anaconda3\\Lib\\site-packages\\sklearn\\base.py:493: UserWarning: X does not have valid feature names, but RandomForestClassifier was fitted with feature names\n",
      "  warnings.warn(\n"
     ]
    }
   ],
   "source": [
    "#reduce nos.of feature\n",
    "import numpy as np\n",
    "selected_features = top_features['Feature'].tolist()\n",
    "\n",
    "# Simple user input test\n",
    "def test_transaction():\n",
    "    print(\"\\n🔍 Enter transaction details to test:\")\n",
    "\n",
    "    features = []\n",
    "    for feature in selected_features:\n",
    "        val = float(input(f\"{feature}: \"))  \n",
    "        features.append(val)\n",
    "\n",
    "    \n",
    "    input_data = np.zeros(X.shape[1])  \n",
    "    for i, feature in enumerate(selected_features):\n",
    "        index = X.columns.get_loc(feature)  \n",
    "        input_data[index] = features[i]  \n",
    "\n",
    "    input_data = input_data.reshape(1, -1)\n",
    "    prediction = model.predict(input_data)\n",
    "\n",
    "    print(\"\\n🚨 Fraud Detected!\" if prediction[0] == 1 else \"\\n✅ Transaction Safe!\")\n",
    "\n",
    "\n",
    "test_transaction()\n"
   ]
  },
  {
   "cell_type": "code",
   "execution_count": null,
   "id": "a4f597d8-7adf-4d91-9624-96ff6093253c",
   "metadata": {},
   "outputs": [],
   "source": []
  }
 ],
 "metadata": {
  "kernelspec": {
   "display_name": "Python [conda env:base] *",
   "language": "python",
   "name": "conda-base-py"
  },
  "language_info": {
   "codemirror_mode": {
    "name": "ipython",
    "version": 3
   },
   "file_extension": ".py",
   "mimetype": "text/x-python",
   "name": "python",
   "nbconvert_exporter": "python",
   "pygments_lexer": "ipython3",
   "version": "3.12.7"
  }
 },
 "nbformat": 4,
 "nbformat_minor": 5
}
